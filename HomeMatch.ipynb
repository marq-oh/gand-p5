{
 "cells": [
  {
   "cell_type": "markdown",
   "id": "a108af04",
   "metadata": {},
   "source": [
    "This is a starter notebook for the project, you'll have to import the libraries you'll need, you can find a list of the ones available in this workspace in the requirements.txt file in this workspace. "
   ]
  },
  {
   "cell_type": "code",
   "execution_count": 5,
   "id": "6554fd4c",
   "metadata": {},
   "outputs": [],
   "source": [
    "import os\n",
    "import openai\n",
    "import pandas as pd\n",
    "import chromadb\n",
    "from langchain.llms import OpenAI\n",
    "from langchain.vectorstores import Chroma\n",
    "from langchain.embeddings import OpenAIEmbeddings\n",
    "\n",
    "# Set API Key for OpenAI\n",
    "openai.api_key = \"API KEY HERE\"\n",
    "openai.api_base = \"https://openai.vocareum.com/v1\""
   ]
  },
  {
   "cell_type": "code",
   "execution_count": 7,
   "id": "cac33c9e",
   "metadata": {},
   "outputs": [
    {
     "name": "stdout",
     "output_type": "stream",
     "text": [
      "         Neighborhood       Price Bedrooms Bathrooms  House Size  \\\n",
      "0    Uptown Manhattan  $1,250,000        3         2  1,500 sqft   \n",
      "1  Palm Beach Gardens    $850,000        4       3.5  3,000 sqft   \n",
      "2       Beverly Hills  $8,500,000        5         6  6,900 sqft   \n",
      "3        Lincoln Park    $550,000        2         2  1,300 sqft   \n",
      "4    Westlake, Austin  $1,100,000        4       3.5  2,800 sqft   \n",
      "\n",
      "                                         Description  \n",
      "0  Luxury apartment with beautiful city views, fe...  \n",
      "1  Charming single-family home with a large backy...  \n",
      "2  Elegant mansion with a guest house, luxurious ...  \n",
      "3  Warm and welcoming condo featuring a modern de...  \n",
      "4  Beautiful traditional brick home with a spacio...  \n"
     ]
    }
   ],
   "source": [
    "# Prompt for generating listings\n",
    "listing_prompt = \"\"\"\n",
    "Generate 10 realistic real estate listings in the following format:\n",
    "Neighborhood: [Neighborhood Name]\n",
    "Price: [Price]\n",
    "Bedrooms: [Number of Bedrooms]\n",
    "Bathrooms: [Number of Bathrooms]\n",
    "House Size: [Size in sqft]\n",
    "Description: [Brief description of the property]\n",
    "\"\"\"\n",
    "\n",
    "# Call OpenAI to generate listings\n",
    "response = openai.ChatCompletion.create(\n",
    "    model=\"gpt-4\",  # Use GPT-4 or GPT-3.5\n",
    "    messages=[{\"role\": \"user\", \"content\": listing_prompt}]\n",
    ")\n",
    "\n",
    "# Extract generated text\n",
    "generated_text = response[\"choices\"][0][\"message\"][\"content\"]\n",
    "\n",
    "# Split text into listings (assuming listings are separated by double newlines)\n",
    "listings = generated_text.strip().split(\"\\n\\n\")\n",
    "\n",
    "# Process listings into a structured DataFrame\n",
    "data = []\n",
    "for listing in listings:\n",
    "    lines = listing.split(\"\\n\")\n",
    "    entry = {}\n",
    "    for line in lines:\n",
    "        if \": \" in line:  # Ensure line contains a key-value pair\n",
    "            key, value = line.split(\": \", 1)\n",
    "            # Strip extra spaces\n",
    "            entry[key.strip()] = value.strip()\n",
    "    \n",
    "    # Only add non-empty entries\n",
    "    if entry:\n",
    "        data.append(entry)\n",
    "\n",
    "# Convert to DataFrame\n",
    "listings_df = pd.DataFrame(data)\n",
    "\n",
    "# Clean up DataFrame by removing any extra or invalid columns\n",
    "listings_df = listings_df.loc[:, ~listings_df.columns.str.contains('^Unnamed')]\n",
    "\n",
    "# Save to CSV (optional)\n",
    "listings_df.to_csv(\"listings.csv\", index=False, encoding=\"utf-8\")\n",
    "\n",
    "# Display first few rows\n",
    "print(listings_df.head())"
   ]
  },
  {
   "cell_type": "code",
   "execution_count": 8,
   "id": "5836b52f",
   "metadata": {},
   "outputs": [
    {
     "name": "stdout",
     "output_type": "stream",
     "text": [
      "Collection 'realestate_listings' does not exist, creating a new one.\n",
      "Collection 'realestate_listings' created successfully.\n"
     ]
    }
   ],
   "source": [
    "# Initialize Chroma client\n",
    "client = chromadb.Client()\n",
    "\n",
    "# Define collection name\n",
    "collection_name = \"realestate_listings\"\n",
    "\n",
    "# Delete collection if it already exists\n",
    "try:\n",
    "    client.delete_collection(collection_name)\n",
    "    print(f\"Collection '{collection_name}' deleted.\")\n",
    "except Exception:\n",
    "    print(f\"Collection '{collection_name}' does not exist, creating a new one.\")\n",
    "\n",
    "# Create a new collection\n",
    "collection = client.create_collection(name=collection_name)\n",
    "print(f\"Collection '{collection_name}' created successfully.\")\n"
   ]
  },
  {
   "cell_type": "code",
   "execution_count": 9,
   "id": "dc2508b4",
   "metadata": {},
   "outputs": [
    {
     "data": {
      "text/html": [
       "<div>\n",
       "<style scoped>\n",
       "    .dataframe tbody tr th:only-of-type {\n",
       "        vertical-align: middle;\n",
       "    }\n",
       "\n",
       "    .dataframe tbody tr th {\n",
       "        vertical-align: top;\n",
       "    }\n",
       "\n",
       "    .dataframe thead th {\n",
       "        text-align: right;\n",
       "    }\n",
       "</style>\n",
       "<table border=\"1\" class=\"dataframe\">\n",
       "  <thead>\n",
       "    <tr style=\"text-align: right;\">\n",
       "      <th></th>\n",
       "      <th>Neighborhood</th>\n",
       "      <th>Price</th>\n",
       "      <th>Bedrooms</th>\n",
       "      <th>Bathrooms</th>\n",
       "      <th>House Size</th>\n",
       "      <th>Description</th>\n",
       "      <th>embedding</th>\n",
       "    </tr>\n",
       "  </thead>\n",
       "  <tbody>\n",
       "    <tr>\n",
       "      <th>0</th>\n",
       "      <td>Uptown Manhattan</td>\n",
       "      <td>$1,250,000</td>\n",
       "      <td>3</td>\n",
       "      <td>2</td>\n",
       "      <td>1,500 sqft</td>\n",
       "      <td>Luxury apartment with beautiful city views, fe...</td>\n",
       "      <td>[0.009076486664536466, 0.004290182761727325, 0...</td>\n",
       "    </tr>\n",
       "    <tr>\n",
       "      <th>1</th>\n",
       "      <td>Palm Beach Gardens</td>\n",
       "      <td>$850,000</td>\n",
       "      <td>4</td>\n",
       "      <td>3.5</td>\n",
       "      <td>3,000 sqft</td>\n",
       "      <td>Charming single-family home with a large backy...</td>\n",
       "      <td>[-0.0023595419591868325, 0.030821117129888328,...</td>\n",
       "    </tr>\n",
       "    <tr>\n",
       "      <th>2</th>\n",
       "      <td>Beverly Hills</td>\n",
       "      <td>$8,500,000</td>\n",
       "      <td>5</td>\n",
       "      <td>6</td>\n",
       "      <td>6,900 sqft</td>\n",
       "      <td>Elegant mansion with a guest house, luxurious ...</td>\n",
       "      <td>[-0.009865948096208596, 0.013545541226134229, ...</td>\n",
       "    </tr>\n",
       "    <tr>\n",
       "      <th>3</th>\n",
       "      <td>Lincoln Park</td>\n",
       "      <td>$550,000</td>\n",
       "      <td>2</td>\n",
       "      <td>2</td>\n",
       "      <td>1,300 sqft</td>\n",
       "      <td>Warm and welcoming condo featuring a modern de...</td>\n",
       "      <td>[0.0042718300056201084, 0.011894114424555798, ...</td>\n",
       "    </tr>\n",
       "    <tr>\n",
       "      <th>4</th>\n",
       "      <td>Westlake, Austin</td>\n",
       "      <td>$1,100,000</td>\n",
       "      <td>4</td>\n",
       "      <td>3.5</td>\n",
       "      <td>2,800 sqft</td>\n",
       "      <td>Beautiful traditional brick home with a spacio...</td>\n",
       "      <td>[-0.019723996592158545, 0.02182339678779089, -...</td>\n",
       "    </tr>\n",
       "  </tbody>\n",
       "</table>\n",
       "</div>"
      ],
      "text/plain": [
       "         Neighborhood       Price Bedrooms Bathrooms  House Size  \\\n",
       "0    Uptown Manhattan  $1,250,000        3         2  1,500 sqft   \n",
       "1  Palm Beach Gardens    $850,000        4       3.5  3,000 sqft   \n",
       "2       Beverly Hills  $8,500,000        5         6  6,900 sqft   \n",
       "3        Lincoln Park    $550,000        2         2  1,300 sqft   \n",
       "4    Westlake, Austin  $1,100,000        4       3.5  2,800 sqft   \n",
       "\n",
       "                                         Description  \\\n",
       "0  Luxury apartment with beautiful city views, fe...   \n",
       "1  Charming single-family home with a large backy...   \n",
       "2  Elegant mansion with a guest house, luxurious ...   \n",
       "3  Warm and welcoming condo featuring a modern de...   \n",
       "4  Beautiful traditional brick home with a spacio...   \n",
       "\n",
       "                                           embedding  \n",
       "0  [0.009076486664536466, 0.004290182761727325, 0...  \n",
       "1  [-0.0023595419591868325, 0.030821117129888328,...  \n",
       "2  [-0.009865948096208596, 0.013545541226134229, ...  \n",
       "3  [0.0042718300056201084, 0.011894114424555798, ...  \n",
       "4  [-0.019723996592158545, 0.02182339678779089, -...  "
      ]
     },
     "execution_count": 9,
     "metadata": {},
     "output_type": "execute_result"
    }
   ],
   "source": [
    "# Initialize OpenAI embeddings\n",
    "embeddings = OpenAIEmbeddings()\n",
    "\n",
    "# Function to generate embeddings (this uses the correct method in langchain)\n",
    "def generate_embeddings(text):\n",
    "    # Generate embedding using langchain's OpenAIEmbeddings\n",
    "    return embeddings.embed_query(text)  # Correct method to generate embeddings\n",
    "\n",
    "# Generate embeddings for each listing description\n",
    "listings_df['embedding'] = listings_df['Description'].apply(generate_embeddings)\n",
    "\n",
    "# Check the DataFrame with embeddings\n",
    "listings_df.head()"
   ]
  },
  {
   "cell_type": "code",
   "execution_count": 10,
   "id": "b42d8d5f",
   "metadata": {},
   "outputs": [],
   "source": [
    "# Add data to ChromaDB (documents, embeddings, and metadata)\n",
    "documents = listings_df['Description'].tolist()\n",
    "embeddings_list = listings_df['embedding'].tolist()\n",
    "metadatas = [{'description': desc} for desc in documents]  # Metadata as a simple dictionary\n",
    "\n",
    "# Create a unique ID for each document, using the DataFrame index\n",
    "ids = [str(i) for i in listings_df.index.tolist()]\n",
    "\n",
    "# Add the documents, metadata, embeddings, and ids to the Chroma collection\n",
    "collection.add(\n",
    "    documents=documents,\n",
    "    metadatas=metadatas,\n",
    "    embeddings=embeddings_list,\n",
    "    ids=ids  # Make sure to include the ids\n",
    ")"
   ]
  },
  {
   "cell_type": "code",
   "execution_count": 11,
   "id": "0d4aa6af",
   "metadata": {},
   "outputs": [
    {
     "name": "stdout",
     "output_type": "stream",
     "text": [
      "{'ids': ['0', '1', '2', '3', '4', '5', '6', '7', '8', '9'], 'embeddings': None, 'metadatas': [{'description': 'Luxury apartment with beautiful city views, featuring a modern kitchen, spacious living area, rooftop access, and a fitness center in the building.'}, {'description': 'Charming single-family home with a large backyard, updated kitchen, main level master suite, swimming pool and a 2-car garage, minutes away from the beach.'}, {'description': 'Elegant mansion with a guest house, luxurious finishes, a swimming pool, home theater, wine cellar, and a 3-car garage, located in a prestigious gated community.'}, {'description': 'Warm and welcoming condo featuring a modern design, upgraded kitchen with stainless steel appliances, hardwood floors, and just walking distance to shopping and dining.'}, {'description': 'Beautiful traditional brick home with a spacious yard, open floor plan, chic fireplace, and an expansive deck with panoramic views.'}, {'description': 'Charming townhome in the heart of the city with gourmet kitchen, fenced backyard, and off-street parking, close to public transportation and nightlife.'}, {'description': \"Loft-style apartment with high ceilings, exposed brick walls, oversized windows, chef's kitchen, and a rooftop terrace in an iconic neighborhood.\"}, {'description': 'An inviting condo with an open-concept living area, updated kitchen, private balcony, with spectacular ocean views in a pet-friendly building.'}, {'description': 'Historic Victorian home with period details, an updated kitchen, fenced yard, fireplace, and a detached garage, close to parks and schools.'}, {'description': 'A gorgeous row house featuring a gourmet kitchen, hardwood floors, private patio, and off-street parking located in a renowned historic neighborhood.'}], 'documents': ['Luxury apartment with beautiful city views, featuring a modern kitchen, spacious living area, rooftop access, and a fitness center in the building.', 'Charming single-family home with a large backyard, updated kitchen, main level master suite, swimming pool and a 2-car garage, minutes away from the beach.', 'Elegant mansion with a guest house, luxurious finishes, a swimming pool, home theater, wine cellar, and a 3-car garage, located in a prestigious gated community.', 'Warm and welcoming condo featuring a modern design, upgraded kitchen with stainless steel appliances, hardwood floors, and just walking distance to shopping and dining.', 'Beautiful traditional brick home with a spacious yard, open floor plan, chic fireplace, and an expansive deck with panoramic views.', 'Charming townhome in the heart of the city with gourmet kitchen, fenced backyard, and off-street parking, close to public transportation and nightlife.', \"Loft-style apartment with high ceilings, exposed brick walls, oversized windows, chef's kitchen, and a rooftop terrace in an iconic neighborhood.\", 'An inviting condo with an open-concept living area, updated kitchen, private balcony, with spectacular ocean views in a pet-friendly building.', 'Historic Victorian home with period details, an updated kitchen, fenced yard, fireplace, and a detached garage, close to parks and schools.', 'A gorgeous row house featuring a gourmet kitchen, hardwood floors, private patio, and off-street parking located in a renowned historic neighborhood.']}\n"
     ]
    }
   ],
   "source": [
    "# Confirm data has been added by checking the collection\n",
    "print(collection.get())"
   ]
  },
  {
   "cell_type": "code",
   "execution_count": 12,
   "id": "989a0bfe",
   "metadata": {},
   "outputs": [],
   "source": [
    "# Define the user preferences and perform the search\n",
    "questions = [\n",
    "    \"How big do you want your house to be?\", \n",
    "    \"What are 3 most important things for you in choosing this property?\", \n",
    "    \"Which amenities would you like?\", \n",
    "    \"Which transportation options are important to you?\",\n",
    "    \"How urban do you want your neighborhood to be?\"\n",
    "]\n",
    "\n",
    "answers = [\n",
    "    \"A comfortable three-bedroom house with a spacious kitchen and a cozy living room.\",\n",
    "    \"A quiet neighborhood, good local schools, and convenient shopping options.\",\n",
    "    \"A backyard for gardening, a two-car garage, and a modern, energy-efficient heating system.\",\n",
    "    \"Easy access to a reliable bus line, proximity to a major highway, and bike-friendly roads.\",\n",
    "    \"A balance between suburban tranquility and access to urban amenities like restaurants and theaters.\"\n",
    "]\n",
    "\n",
    "# Combine the answers into a single string for semantic search\n",
    "preferences = \" \".join(answers)"
   ]
  },
  {
   "cell_type": "code",
   "execution_count": 13,
   "id": "f47d91ac",
   "metadata": {},
   "outputs": [
    {
     "name": "stdout",
     "output_type": "stream",
     "text": [
      "Top matching listings based on user preferences:\n",
      "Description: Charming townhome in the heart of the city with gourmet kitchen, fenced backyard, and off-street parking, close to public transportation and nightlife.\n",
      "\n",
      "Description: Charming single-family home with a large backyard, updated kitchen, main level master suite, swimming pool and a 2-car garage, minutes away from the beach.\n",
      "\n",
      "Description: A gorgeous row house featuring a gourmet kitchen, hardwood floors, private patio, and off-street parking located in a renowned historic neighborhood.\n",
      "\n"
     ]
    }
   ],
   "source": [
    "# Perform the semantic search based on the preferences\n",
    "\n",
    "# Combine the answers into a single string for semantic search\n",
    "preferences = \" \".join(answers)\n",
    "\n",
    "# Convert the preferences into an embedding using the embed_query method\n",
    "preference_embedding = embeddings.embed_query(preferences)\n",
    "\n",
    "# Perform the search with the embedding for the user's preferences\n",
    "results = collection.query(\n",
    "    query_embeddings=[preference_embedding],\n",
    "    n_results=3  # Number of results to return\n",
    ")\n",
    "\n",
    "# Display the results\n",
    "print(\"Top matching listings based on user preferences:\")\n",
    "for result_list in results['documents']:\n",
    "    for result in result_list:\n",
    "        print(f\"Description: {result}\\n\")\n",
    "\n"
   ]
  },
  {
   "cell_type": "code",
   "execution_count": 14,
   "id": "cde2f78e",
   "metadata": {},
   "outputs": [
    {
     "name": "stdout",
     "output_type": "stream",
     "text": [
      "Augmented Description: \"Discover urban suburban bliss in this modern, three-bedroom townhome nestled in a quiet, family-fri...\n",
      "\n",
      "Augmented Description: Ideal for those seeking suburban tranquility, this charming three-bedroom home perfectly balances co...\n",
      "\n",
      "Augmented Description: Listing: Discover your dream home nestled in a serene historic neighborhood! This beautiful three-be...\n",
      "\n"
     ]
    }
   ],
   "source": [
    "# Function to augment the listing description using LLM\n",
    "def augment_listing_description(description, preferences):\n",
    "    # Shorten the prompt to only ask for key details\n",
    "    prompt = f\"\"\"\n",
    "    Enhance the description for a buyer with the following preferences:\n",
    "\n",
    "    Preferences: {preferences}\n",
    "    \n",
    "    Listing: {description}\n",
    "    \n",
    "    Make it engaging but short, simple and concise, focusing on key features that appeal most.\n",
    "    \"\"\"\n",
    "    \n",
    "    # Call OpenAI API to augment the description\n",
    "    response = openai.ChatCompletion.create(\n",
    "        model=\"gpt-4\",\n",
    "        messages=[{\"role\": \"user\", \"content\": prompt}]\n",
    "    )\n",
    "    \n",
    "    # Extract and return a short version of the augmented description\n",
    "    augmented_description = response['choices'][0]['message']['content']\n",
    "    return augmented_description\n",
    "\n",
    "# Loop through the results and augment descriptions\n",
    "for result in results['documents']:\n",
    "    for description in result:  # Loop through the list of descriptions\n",
    "        augmented_description = augment_listing_description(description, preferences)\n",
    "        print(f\"Augmented Description: {augmented_description[:100]}...\\n\")\n"
   ]
  },
  {
   "cell_type": "markdown",
   "id": "145cb9e6",
   "metadata": {},
   "source": [
    "#### Other Test #1"
   ]
  },
  {
   "cell_type": "code",
   "execution_count": 15,
   "id": "9c6e5625",
   "metadata": {},
   "outputs": [],
   "source": [
    "# Other Test #1\n",
    "questions = [\n",
    "    \"How big do you want your house to be?\", \n",
    "    \"What are 3 most important things for you in choosing this property?\", \n",
    "    \"Which amenities would you like?\", \n",
    "    \"Which transportation options are important to you?\",\n",
    "    \"How urban do you want your neighborhood to be?\"\n",
    "]\n",
    "\n",
    "answers = [\n",
    "    \"I need a 3-bedroom house, preferably near a beach with great ocean views.\",\n",
    "    \"Safety, proximity to good schools, and a quiet neighborhood for families.\",\n",
    "    \"An energy-efficient home with solar panels, a large backyard for gardening, and a two-car garage.\",\n",
    "    \"Easy access to public transport, especially a metro station or bus routes.\",\n",
    "    \"I want a neighborhood with lots of green spaces but also close to cafes and restaurants.\"\n",
    "]\n",
    "\n",
    "preferences = \" \".join(answers)\n"
   ]
  },
  {
   "cell_type": "code",
   "execution_count": 16,
   "id": "a83c6bf4",
   "metadata": {},
   "outputs": [
    {
     "name": "stdout",
     "output_type": "stream",
     "text": [
      "Top matching listings based on user preferences:\n",
      "Description: Charming single-family home with a large backyard, updated kitchen, main level master suite, swimming pool and a 2-car garage, minutes away from the beach.\n",
      "\n",
      "Description: Charming townhome in the heart of the city with gourmet kitchen, fenced backyard, and off-street parking, close to public transportation and nightlife.\n",
      "\n",
      "Description: Elegant mansion with a guest house, luxurious finishes, a swimming pool, home theater, wine cellar, and a 3-car garage, located in a prestigious gated community.\n",
      "\n"
     ]
    }
   ],
   "source": [
    "# Perform the semantic search based on the preferences\n",
    "\n",
    "# Combine the answers into a single string for semantic search\n",
    "preferences = \" \".join(answers)\n",
    "\n",
    "# Convert the preferences into an embedding using the embed_query method\n",
    "preference_embedding = embeddings.embed_query(preferences)\n",
    "\n",
    "# Perform the search with the embedding for the user's preferences\n",
    "results = collection.query(\n",
    "    query_embeddings=[preference_embedding],\n",
    "    n_results=3  # Number of results to return\n",
    ")\n",
    "\n",
    "# Display the results\n",
    "print(\"Top matching listings based on user preferences:\")\n",
    "for result_list in results['documents']:\n",
    "    for result in result_list:\n",
    "        print(f\"Description: {result}\\n\")"
   ]
  },
  {
   "cell_type": "code",
   "execution_count": 17,
   "id": "8d0e4a01",
   "metadata": {},
   "outputs": [
    {
     "name": "stdout",
     "output_type": "stream",
     "text": [
      "Augmented Description: This luxurious 3-bedroom beachfront house cuts a perfect balance of comfort and convenience for your...\n",
      "\n",
      "Augmented Description: Listing: Delight in this charming, energy-efficient, 3-bedroom family home with solar panels. Nestle...\n",
      "\n",
      "Augmented Description: Listing: Discover your dream home! A 3-bedroom beachfront charmer nestled in a safe, quiet family ne...\n",
      "\n",
      "Augmented Description: Envision your dream home with this stunning 3-bedroom condo, nestling close to a tranquil and pictur...\n",
      "\n",
      "Augmented Description: Listing: Embrace coastal living in a safe, family-friendly neighborhood with this stunning 3-bedroom...\n",
      "\n",
      "Augmented Description: Listing: Discover your dream 3-bedroom house, beautifully located near an awe-inspiring beach perfec...\n",
      "\n",
      "Augmented Description: Immerse yourself in this breathtakingly beautiful 3-bedroom beach house! Tailored for your desires, ...\n",
      "\n",
      "Augmented Description: Listing: A charming 3-bedroom energy-efficient house, oozing with family-friendly features. Situated...\n",
      "\n",
      "Augmented Description: Perfectly suited for your preferences, this historic 3-bedroom Victorian home boasts stunning period...\n",
      "\n",
      "Augmented Description: This captivating 3-bedroom row house, located in an esteemed, seclusive neighborhood, is just moment...\n",
      "\n"
     ]
    }
   ],
   "source": [
    "# Augment descriptions for each listing and show shorter versions\n",
    "for listing in listings_df[\"Description\"]:  # Directly iterate over descriptions\n",
    "    augmented_description = augment_listing_description(listing, preferences)\n",
    "    print(f\"Augmented Description: {augmented_description[:100]}...\\n\")"
   ]
  },
  {
   "cell_type": "markdown",
   "id": "2b02e55f",
   "metadata": {},
   "source": [
    "#### Other Test #2"
   ]
  },
  {
   "cell_type": "code",
   "execution_count": 18,
   "id": "03f4f193",
   "metadata": {},
   "outputs": [],
   "source": [
    "# Other Test #2\n",
    "questions = [\n",
    "    \"How big do you want your house to be?\", \n",
    "    \"What are 3 most important things for you in choosing this property?\", \n",
    "    \"Which amenities would you like?\", \n",
    "    \"Which transportation options are important to you?\",\n",
    "    \"How urban do you want your neighborhood to be?\"\n",
    "]\n",
    "\n",
    "answers = [\n",
    "    \"I need a 5-bedroom mansion with a home theater, gym, and a bowling alley.\",\n",
    "    \"The most important things are extreme privacy, no neighbors within a mile, and proximity to nature.\",\n",
    "    \"A personal spa, a wine cellar, and a private boat dock.\",\n",
    "    \"Helicopter access, a private road, and a remote location with no nearby public transport.\",\n",
    "    \"A completely isolated, ultra-rural location with no urban influence at all.\"\n",
    "]\n",
    "\n",
    "preferences = \" \".join(answers)\n"
   ]
  },
  {
   "cell_type": "code",
   "execution_count": 19,
   "id": "bbfded26",
   "metadata": {},
   "outputs": [
    {
     "name": "stdout",
     "output_type": "stream",
     "text": [
      "Top matching listings based on user preferences:\n",
      "Description: Elegant mansion with a guest house, luxurious finishes, a swimming pool, home theater, wine cellar, and a 3-car garage, located in a prestigious gated community.\n",
      "\n",
      "Description: A gorgeous row house featuring a gourmet kitchen, hardwood floors, private patio, and off-street parking located in a renowned historic neighborhood.\n",
      "\n",
      "Description: Charming single-family home with a large backyard, updated kitchen, main level master suite, swimming pool and a 2-car garage, minutes away from the beach.\n",
      "\n"
     ]
    }
   ],
   "source": [
    "# Perform the semantic search based on the preferences\n",
    "\n",
    "# Combine the answers into a single string for semantic search\n",
    "preferences = \" \".join(answers)\n",
    "\n",
    "# Convert the preferences into an embedding using the embed_query method\n",
    "preference_embedding = embeddings.embed_query(preferences)\n",
    "\n",
    "# Perform the search with the embedding for the user's preferences\n",
    "results = collection.query(\n",
    "    query_embeddings=[preference_embedding],\n",
    "    n_results=3  # Number of results to return\n",
    ")\n",
    "\n",
    "# Display the results\n",
    "print(\"Top matching listings based on user preferences:\")\n",
    "for result_list in results['documents']:\n",
    "    for result in result_list:\n",
    "        print(f\"Description: {result}\\n\")"
   ]
  },
  {
   "cell_type": "code",
   "execution_count": 20,
   "id": "166c02a3",
   "metadata": {},
   "outputs": [
    {
     "name": "stdout",
     "output_type": "stream",
     "text": [
      "Augmented Description: Listing: A pristine 5-bedroom countryside mansion, hidden away in a private, ultra-rural location. T...\n",
      "\n",
      "Augmented Description: Remarkable secluded haven nestled amidst nature intended for the utmost privacy and tranquility. Thi...\n",
      "\n",
      "Augmented Description: Experience absolute tranquility in this opulent 5-bedroom mansion, nestled in an ultra-rural, remote...\n",
      "\n",
      "Augmented Description: Listing: Experience unparalleled luxury and privacy in this 5-bedroom mansion, nestled in an ultra-r...\n",
      "\n",
      "Augmented Description: Listing: Step into ultimate luxury with this ultra-private, 5-bedroom brick mansion nestled in the h...\n",
      "\n",
      "Augmented Description: Listing: Discover your personal paradise in this expansive 5-bedroom ultra-luxurious mansion, nestle...\n",
      "\n",
      "Augmented Description: Discover the epitome of opulent and private living with this 5-bedroom mansion, nestled amidst lush ...\n",
      "\n",
      "Augmented Description: Listing: Welcome to your bespoke, ultra-private 5-bedroom mansion nestled amidst an unspoiled nature...\n",
      "\n",
      "Augmented Description: Listing: Private Luxury Estate nestled in an ultra-rural location. This unique 5-bedroom Mansion off...\n",
      "\n",
      "Augmented Description: Discover an isolated paradise with this grand 5-bedroom mansion, precisely engineered for ultimate p...\n",
      "\n"
     ]
    }
   ],
   "source": [
    "# Augment descriptions for each listing and show shorter versions\n",
    "for listing in listings_df[\"Description\"]:  # Directly iterate over descriptions\n",
    "    augmented_description = augment_listing_description(listing, preferences)\n",
    "    print(f\"Augmented Description: {augmented_description[:100]}...\\n\")"
   ]
  },
  {
   "cell_type": "code",
   "execution_count": null,
   "id": "a53b5d1b",
   "metadata": {},
   "outputs": [],
   "source": []
  }
 ],
 "metadata": {
  "kernelspec": {
   "display_name": "Python 3 (ipykernel)",
   "language": "python",
   "name": "python3"
  },
  "language_info": {
   "codemirror_mode": {
    "name": "ipython",
    "version": 3
   },
   "file_extension": ".py",
   "mimetype": "text/x-python",
   "name": "python",
   "nbconvert_exporter": "python",
   "pygments_lexer": "ipython3",
   "version": "3.10.11"
  }
 },
 "nbformat": 4,
 "nbformat_minor": 5
}
